{
 "cells": [
  {
   "cell_type": "code",
   "execution_count": 2,
   "id": "3b9fc4de",
   "metadata": {},
   "outputs": [
    {
     "name": "stdout",
     "output_type": "stream",
     "text": [
      "Enter pin: 12345\n",
      "Pin is Invalid!\n"
     ]
    }
   ],
   "source": [
    "#Write another program if the pin is valid or not \n",
    "\n",
    "#Length of pin should be 4 characters and only numbers\n",
    "\n",
    "\n",
    "pin = input('Enter pin: ')\n",
    "\n",
    "hasValidLength = False\n",
    "onlyNums = False\n",
    "acc = 0\n",
    "\n",
    "if len(pin) == 4:\n",
    "    hasValidLength = True\n",
    "    \n",
    "    for ch in pin:\n",
    "        if ch.isdigit():\n",
    "            acc = acc + 1\n",
    "            \n",
    "if acc == 4:\n",
    "    onlyNums = True\n",
    "    \n",
    "if hasValidLength and onlyNums:\n",
    "    print('Pin is Valid!')\n",
    "else:\n",
    "    print('Pin is Invalid!')\n",
    "    "
   ]
  },
  {
   "cell_type": "code",
   "execution_count": null,
   "id": "a7df76fd",
   "metadata": {},
   "outputs": [],
   "source": []
  },
  {
   "cell_type": "code",
   "execution_count": null,
   "id": "f4351396",
   "metadata": {},
   "outputs": [],
   "source": []
  }
 ],
 "metadata": {
  "kernelspec": {
   "display_name": "Python 3 (ipykernel)",
   "language": "python",
   "name": "python3"
  },
  "language_info": {
   "codemirror_mode": {
    "name": "ipython",
    "version": 3
   },
   "file_extension": ".py",
   "mimetype": "text/x-python",
   "name": "python",
   "nbconvert_exporter": "python",
   "pygments_lexer": "ipython3",
   "version": "3.9.7"
  }
 },
 "nbformat": 4,
 "nbformat_minor": 5
}
